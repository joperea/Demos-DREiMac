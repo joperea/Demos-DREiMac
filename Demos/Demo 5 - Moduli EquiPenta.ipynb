{
 "cells": [
  {
   "cell_type": "markdown",
   "metadata": {},
   "source": [
    "## Demo 5 - Moduli space of unirateral equilateral pentagons \n",
    "\n",
    "### A toy model for energy landscapes and molecular dynamics"
   ]
  },
  {
   "cell_type": "code",
   "execution_count": null,
   "metadata": {},
   "outputs": [],
   "source": [
    "# Import libraries\n",
    "\n",
    "import random\n",
    "\n",
    "import numpy as np\n",
    "\n",
    "from sklearn.manifold import Isomap\n",
    "from sklearn.decomposition import PCA\n",
    "from sklearn.manifold import LocallyLinearEmbedding as LLE\n",
    "\n",
    "from ripser import ripser\n",
    "from persim import plot_diagrams\n",
    "\n",
    "from dreimac import CircularCoords\n",
    "\n",
    "import plotly.graph_objects as go\n",
    "\n",
    "from matplotlib import cm\n",
    "import matplotlib.pyplot as plt\n",
    "%matplotlib inline"
   ]
  },
  {
   "cell_type": "markdown",
   "metadata": {},
   "source": [
    "# Moduli Space of Equilateral Pentagons\n",
    "\n",
    "The space of planar pentagons of side length 1 is the set\n",
    "\n",
    "\n",
    "$$\\mathbb{M} = \\left\\{ (\\mathbf{p}_0, \\ldots, \\mathbf{p}_5) \\in \\mathbb{C}^5 \\; : \\; |\\mathbf{p}_{i} - \\mathbf{p}_{i+1}| = 1 \\right\\} \\big/ \\sim $$\n",
    "\n",
    "where two pentagons are regarded as equivalent, $\\mathbf{p} \\sim  \\mathbf{p}' $, if and only if $ \\mathbf{p}' = U\\mathbf{p} + \\mathbf{v} $ for   $ U \\in U(1) $ and $ \\mathbf{v} \\in \\mathbb{C} $. "
   ]
  },
  {
   "cell_type": "code",
   "execution_count": null,
   "metadata": {},
   "outputs": [],
   "source": [
    "# Load data\n",
    "data = np.loadtxt('data/pentagonsamplesSmall2.txt', delimiter=',')\n",
    "\n",
    "# Energy computation\n",
    "data_aug = np.zeros((data.shape[0], 10)) # augmented data\n",
    "data_aug[:,2] = 1 \n",
    "data_aug[:,[8,9,4,5,6,7]] = data\n",
    "angle_data = np.zeros((data.shape[0],5)) # internal angles\n",
    "\n",
    "for i in range(5):\n",
    "    ii = (2*i -2)%10\n",
    "    jj = (2*i - 1)%10\n",
    "    u = data_aug[:, [ii, jj]]\n",
    "    \n",
    "    ii = (2*i)%10\n",
    "    jj = (2*i + 1)%10\n",
    "    v = data_aug[:, [ii , jj]]\n",
    "    \n",
    "    ii = (2*i + 2)%10\n",
    "    jj = (2*i + 3)%10\n",
    "    w = data_aug[:, [ii, jj]]\n",
    "    \n",
    "    z = np.sum((u - v)*(w-v), axis = 1)\n",
    "    \n",
    "    angle_data[:,i]  = np.arccos( np.minimum(z,1) )\n",
    "    \n",
    "energy = np.sum((angle_data - (3/5)*np.pi)**2 , axis = 1)\n",
    "\n",
    "# plot sample pentagons\n",
    "plt.figure(figsize=(14,6))\n",
    "for i in range(60):\n",
    "    ind = random.randint(0, data.shape[0])\n",
    "    x = data_aug[ind].reshape(5,2).T\n",
    "    cent = np.mean(x,axis=1)\n",
    "    plt.subplot(6,10,i+1)\n",
    "    plt.plot(x[0,range(-1,5)], x[1,range(-1,5)] , '-o', c= cm.magma(energy[ind]/np.max(energy)))\n",
    "    plt.axis('square')\n",
    "    plt.axis('off')\n",
    "    plt.xlim(cent[0]-1.3,cent[0]+1.3);\n",
    "    plt.ylim(cent[1]-1.3,cent[1]+1.3);"
   ]
  },
  {
   "cell_type": "code",
   "execution_count": null,
   "metadata": {},
   "outputs": [],
   "source": [
    "#PCA\n",
    "pca = PCA(n_components=5)\n",
    "data_pca = pca.fit(data).transform(data)\n",
    "\n",
    "print('Explained Vairance', pca.explained_variance_ratio_)\n",
    "\n",
    "fig = go.Figure(data=[go.Scatter3d(\n",
    "    x=data_pca[:,0], y=data_pca[:,1], z=data_pca[:,2], \n",
    "    mode ='markers', \n",
    "    marker=dict(size = 3, color =energy, colorscale='plasma')\n",
    ")])\n",
    "\n",
    "fig.update_layout(autosize=False, width=700, height=700)\n",
    "\n",
    "fig.show()"
   ]
  },
  {
   "cell_type": "code",
   "execution_count": null,
   "metadata": {},
   "outputs": [],
   "source": [
    "# ISOMAP | Warning : May be slooooooowwwww!!!! \n",
    "# random subsample of the data\n",
    "ind_rand_data = np.random.randint(0, high=data.shape[0], size= 10000)\n",
    "rand_data = data[ind_rand_data , :]\n",
    "\n",
    "iso = Isomap(n_components = 3 , n_neighbors = 7)\n",
    "rand_data_iso = iso.fit_transform(rand_data)\n",
    "\n",
    "fig = go.Figure(data=[go.Scatter3d(\n",
    "    x=rand_data_iso[:,0], y=rand_data_iso[:,1], z=rand_data_iso[:,2], \n",
    "    mode ='markers', \n",
    "    marker=dict(size = 3, color =energy[ind_rand_data], colorscale='plasma')\n",
    ")])\n",
    "\n",
    "fig.update_layout(autosize=False, width=700, height=700)\n",
    "\n",
    "fig.show()"
   ]
  },
  {
   "cell_type": "code",
   "execution_count": null,
   "metadata": {},
   "outputs": [],
   "source": [
    "# LLE | Warning : can be slow (not as much as ISOMAP)\n",
    "# random subsample\n",
    "ind_rand_data = np.random.randint(0, high=data.shape[0], size= 20000)\n",
    "rand_data = data[ind_rand_data , :]\n",
    "\n",
    "rand_data_lle = LLE(n_components = 3 , n_neighbors = 20).fit_transform(rand_data)\n",
    "\n",
    "fig = go.Figure(data=[go.Scatter3d(\n",
    "    x=rand_data_lle[:,0], y=rand_data_lle[:,1], z=rand_data_lle[:,2], \n",
    "    mode ='markers', \n",
    "    marker=dict(size = 3, color =energy[ind_rand_data], colorscale='plasma')\n",
    ")])\n",
    "\n",
    "fig.update_layout(autosize=False, width=700, height=700)\n",
    "\n",
    "fig.show()\n"
   ]
  },
  {
   "cell_type": "code",
   "execution_count": null,
   "metadata": {},
   "outputs": [],
   "source": [
    "# Persistence Computation\n",
    "n_land = 500\n",
    "res = ripser(data, maxdim=2, n_perm = n_land, coeff =2, thresh = 1.8)\n",
    "dgms = res['dgms']\n",
    "plt.figure(figsize = (4,4)) \n",
    "plot_diagrams(dgms)"
   ]
  },
  {
   "cell_type": "code",
   "execution_count": null,
   "metadata": {},
   "outputs": [],
   "source": [
    "pers1 = dgms[1][:,1] - dgms[1][:,0]\n",
    "pers1_sorted = np.sort(pers1)[::-1]\n",
    "print('Persistence of the top 12 1-d features:\\n' ,pers1_sorted[0:12])"
   ]
  },
  {
   "cell_type": "code",
   "execution_count": null,
   "metadata": {
    "scrolled": true
   },
   "outputs": [],
   "source": [
    "pers2 = dgms[2][:,1] - dgms[2][:,0]\n",
    "pers2_sorted = np.sort(pers2[pers2 < np.Inf])[::-1]\n",
    "print('Persistence of the top 12 2-d features:\\n' ,pers2_sorted[0:12])"
   ]
  },
  {
   "cell_type": "code",
   "execution_count": null,
   "metadata": {},
   "outputs": [],
   "source": [
    "# Circular Coordinates\n",
    "cc = CircularCoords(data , distance_matrix = False, n_landmarks= 1000, prime = 13)"
   ]
  },
  {
   "cell_type": "code",
   "execution_count": null,
   "metadata": {},
   "outputs": [],
   "source": [
    "# Complete the code in this cell: Find appropriate circular coordinates to plot the data\n",
    "\n",
    "alpha = 0.6\n",
    "theta1 = cc.get_coordinates(perc= alpha, cocycle_idx=  )      # Complete this!!\n",
    "theta2 = cc.get_coordinates(perc= alpha, cocycle_idx=  )      # Complete this!!\n",
    "theta3 = cc.get_coordinates(perc= alpha, cocycle_idx=  )      # Complete this!!\n",
    "\n",
    "# You may want to translate or re-scale (modulo 2\\pi) the computeded circular coordinates\n",
    "# theta1 = \n",
    "# theta2 = \n",
    "# theta3 = "
   ]
  },
  {
   "cell_type": "code",
   "execution_count": null,
   "metadata": {},
   "outputs": [],
   "source": [
    "# Plot the data using the computed circular coordintaes, and colors given by pentagon energy\n",
    "\n",
    "fig = go.Figure(data=[go.Scatter3d(\n",
    "    x=theta1, y=theta2, z=theta3, \n",
    "    mode ='markers', \n",
    "    marker=dict(size = 3, color =energy, colorscale='plasma')\n",
    ")])\n",
    "\n",
    "fig.update_layout(autosize=False, width=700, height=700)\n",
    "\n",
    "fig.show()"
   ]
  },
  {
   "cell_type": "markdown",
   "metadata": {},
   "source": [
    "---\n",
    "\n",
    "If everything went well, your image result should look something like:\n",
    "\n",
    "<img src=\"https://i.ibb.co/0cyj5KM/newplot.png\" alt=\"test-1\" border=\"0\" width=300px>\n"
   ]
  },
  {
   "cell_type": "markdown",
   "metadata": {},
   "source": [
    "----"
   ]
  }
 ],
 "metadata": {
  "kernelspec": {
   "display_name": "Python 3",
   "language": "python",
   "name": "python3"
  },
  "language_info": {
   "codemirror_mode": {
    "name": "ipython",
    "version": 3
   },
   "file_extension": ".py",
   "mimetype": "text/x-python",
   "name": "python",
   "nbconvert_exporter": "python",
   "pygments_lexer": "ipython3",
   "version": "3.8.3"
  }
 },
 "nbformat": 4,
 "nbformat_minor": 4
}
