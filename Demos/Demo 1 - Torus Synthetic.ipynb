{
 "cells": [
  {
   "cell_type": "markdown",
   "metadata": {},
   "source": [
    "# Demo 1 - Synthetic torus\n",
    "\n",
    "\n",
    "The goals of this demo are to: \n",
    "* Familiarize yourself with juPyter notebooks\n",
    "* Generate and visualize data sets\n",
    "* Compute and visualize persistence using ripser \n",
    "* Compute and visualize circular coordinates using DREiMac"
   ]
  },
  {
   "cell_type": "code",
   "execution_count": null,
   "metadata": {},
   "outputs": [],
   "source": [
    "# Import needed libraries\n",
    "\n",
    "import numpy as np\n",
    "\n",
    "from ripser import ripser\n",
    "from persim import plot_diagrams\n",
    "\n",
    "from dreimac import CircularCoords\n",
    "\n",
    "import plotly.graph_objects as go\n",
    "from plotly.subplots import make_subplots\n",
    "\n",
    "import matplotlib.pyplot as plt\n",
    "%matplotlib inline"
   ]
  },
  {
   "cell_type": "code",
   "execution_count": null,
   "metadata": {},
   "outputs": [],
   "source": [
    "# Create a data set of torus.\n",
    "np.random.seed(2)\n",
    "n_data = 10000\n",
    "R = 5\n",
    "r = 2\n",
    "data = np.zeros((n_data, 3))\n",
    "s = np.random.rand(n_data)*2*np.pi\n",
    "t = np.random.rand(n_data)*2*np.pi\n",
    "\n",
    "data[:, 0] = (R + r*np.cos(s))*np.cos(t)\n",
    "data[:, 1] = (R + r*np.cos(s))*np.sin(t)\n",
    "data[:, 2] = r*np.sin(s)\n",
    "\n",
    "# Plot the data \n",
    "fig = go.Figure(data=[go.Scatter3d(\n",
    "    x=data[:,0], y=data[:,1], z=data[:,2], \n",
    "    mode ='markers', \n",
    "    marker=dict(size = 2,   colorscale='plasma') )])\n",
    "\n",
    "fig.update_layout( width=900, height=450)\n",
    "fig.show()"
   ]
  },
  {
   "cell_type": "code",
   "execution_count": null,
   "metadata": {
    "scrolled": false
   },
   "outputs": [],
   "source": [
    "# Persistence Computation\n",
    "n_land = 150\n",
    "res = ripser(data, maxdim=2, n_perm = n_land, coeff =2, thresh = 6)\n",
    "dgms = res['dgms']\n",
    "plt.figure(figsize = (3,3)) \n",
    "plot_diagrams(dgms)"
   ]
  },
  {
   "cell_type": "code",
   "execution_count": null,
   "metadata": {},
   "outputs": [],
   "source": [
    "# Circular coordiantes algorithm \n",
    "# Compute the circular coordinates of the data\n",
    "cc = CircularCoords(data, distance_matrix= False, n_landmarks= 150, prime = 41)\n",
    "\n",
    "# Get the circular coordinate at interpolation scale = 0.9, and for the cocycle with highest persistence\n",
    "theta1 = cc.get_coordinates(perc= 0.9,  cocycle_idx=[0])\n",
    "\n",
    "# Get the circular coordinate at interpolation scale = 0.9, and for the cocycle with second highest persistence\n",
    "theta2 = cc.get_coordinates(perc= 0.9,  cocycle_idx=[1])"
   ]
  },
  {
   "cell_type": "code",
   "execution_count": null,
   "metadata": {},
   "outputs": [],
   "source": [
    "# To see the information for CircularCoords uncoment the line below and run this cell\n",
    "# help(CircularCoords)"
   ]
  },
  {
   "cell_type": "code",
   "execution_count": null,
   "metadata": {},
   "outputs": [],
   "source": [
    "# PLot the data. The colors are the computed circular coordinates (i.e., the angles theta 1 and theta 2)\n",
    "\n",
    "fig = make_subplots(rows=1, cols=2, subplot_titles = ('Circ Coord 1' , 'Circ Coord 2'),\n",
    "                    specs = [[{'type': 'scatter3d'},   {'type': 'scatter3d'}]])\n",
    "\n",
    "fig.add_trace(\n",
    "    go.Scatter3d(x=data[:,0], y=data[:,1], z=data[:,2],   mode ='markers', \n",
    "    marker=dict(size = 2, color = theta1, colorscale='plasma')),  \n",
    "    row=1, col=1)\n",
    "\n",
    "fig.add_trace(\n",
    "    go.Scatter3d( x=data[:,0], y=data[:,1], z=data[:,2],   mode ='markers', \n",
    "    marker=dict(size = 2, color = theta2, colorscale='plasma')),  \n",
    "    row=1, col=2)\n",
    "\n",
    "fig.update_layout(width=900, height=400, showlegend=False)\n",
    "fig.show()"
   ]
  }
 ],
 "metadata": {
  "kernelspec": {
   "display_name": "Python 3 (ipykernel)",
   "language": "python",
   "name": "python3"
  },
  "language_info": {
   "codemirror_mode": {
    "name": "ipython",
    "version": 3
   },
   "file_extension": ".py",
   "mimetype": "text/x-python",
   "name": "python",
   "nbconvert_exporter": "python",
   "pygments_lexer": "ipython3",
   "version": "3.8.13"
  }
 },
 "nbformat": 4,
 "nbformat_minor": 4
}
