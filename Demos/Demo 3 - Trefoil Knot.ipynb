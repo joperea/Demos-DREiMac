{
 "cells": [
  {
   "cell_type": "markdown",
   "metadata": {},
   "source": [
    "## Demo 3 - Parametrizing a twisted circle = trefoil knot"
   ]
  },
  {
   "cell_type": "code",
   "execution_count": null,
   "metadata": {},
   "outputs": [],
   "source": [
    "# Import libraries\n",
    "\n",
    "import numpy as np\n",
    "\n",
    "from ripser import ripser\n",
    "from persim import plot_diagrams\n",
    "from dreimac import CircularCoords\n",
    "\n",
    "import plotly.graph_objects as go\n",
    "\n",
    "import matplotlib.pyplot as plt\n",
    "%matplotlib inline"
   ]
  },
  {
   "cell_type": "code",
   "execution_count": null,
   "metadata": {},
   "outputs": [],
   "source": [
    "# Setup trefoil knot data\n",
    "\n",
    "np.random.seed(0)\n",
    "n_data = 2500\n",
    "u = 4*np.pi*np.random.rand(n_data)\n",
    "v = 2*np.pi*np.random.rand(n_data)\n",
    "data = np.zeros((n_data, 3))\n",
    "data[:, 0] = np.cos(u)*np.cos(v) + 6*np.cos(u)*(1.5+np.sin(1.5*u)/2)\n",
    "data[:, 1] = np.sin(u)*np.cos(v) + 6*np.sin(u)*(1.5+np.sin(1.5*u)/2)\n",
    "data[:, 2] = np.sin(v) + 4*np.cos(1.5*u)\n",
    "\n",
    "fig = go.Figure(data=[go.Scatter3d(\n",
    "    x=data[:,0], y=data[:,1], z=data[:,2], \n",
    "    mode ='markers', \n",
    "    marker=dict(size = 3) )])\n",
    "\n",
    "fig.update_layout(autosize=False, width=500, height=500)\n",
    "fig.show()"
   ]
  },
  {
   "cell_type": "code",
   "execution_count": null,
   "metadata": {},
   "outputs": [],
   "source": [
    "# Persistence Computation\n",
    "n_land = 100\n",
    "res = ripser(data, maxdim=2, n_perm = n_land, coeff =2)\n",
    "dgms = res['dgms']\n",
    "plt.figure(figsize = (4,4)) \n",
    "plot_diagrams(dgms)"
   ]
  },
  {
   "cell_type": "code",
   "execution_count": null,
   "metadata": {},
   "outputs": [],
   "source": [
    "# Compute the circular coordinates of the data\n",
    "cc = CircularCoords(data, distance_matrix= False, n_landmarks= 100, prime = 41)\n",
    "\n",
    "# Get the circular coordinate at interpolation scale = 0.9, and for the cocycle with highest persistence\n",
    "theta = cc.get_coordinates(perc= 0.9,  cocycle_idx=[0])\n",
    "\n",
    "# Plot the trefoil knot with points colored by the computed circular coordinate\n",
    "fig = go.Figure(data=[go.Scatter3d( x=data[:,0], y=data[:,1], z=data[:,2],   mode ='markers', \n",
    "    marker=dict(size = 3, color = theta, colorscale='plasma') )])\n",
    "\n",
    "fig.update_layout(autosize=False, width=500, height=500)\n",
    "fig.show()"
   ]
  }
 ],
 "metadata": {
  "kernelspec": {
   "display_name": "Python 3",
   "language": "python",
   "name": "python3"
  },
  "language_info": {
   "codemirror_mode": {
    "name": "ipython",
    "version": 3
   },
   "file_extension": ".py",
   "mimetype": "text/x-python",
   "name": "python",
   "nbconvert_exporter": "python",
   "pygments_lexer": "ipython3",
   "version": "3.8.3"
  }
 },
 "nbformat": 4,
 "nbformat_minor": 4
}
