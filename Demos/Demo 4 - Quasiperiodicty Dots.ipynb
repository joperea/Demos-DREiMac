{
 "cells": [
  {
   "cell_type": "markdown",
   "metadata": {},
   "source": [
    "## Demo 4 - Disentangling circular directions in toroidal dynamics"
   ]
  },
  {
   "cell_type": "code",
   "execution_count": null,
   "metadata": {},
   "outputs": [],
   "source": [
    "# Imports\n",
    "\n",
    "import numpy as np\n",
    "from PIL import Image\n",
    "import cv2\n",
    "import glob\n",
    "\n",
    "from sklearn.decomposition import PCA\n",
    "\n",
    "from scipy import interpolate\n",
    "\n",
    "from ripser import ripser\n",
    "from persim import plot_diagrams\n",
    "\n",
    "from dreimac import CircularCoords\n",
    "\n",
    "import matplotlib.pyplot as plt\n",
    "%matplotlib inline"
   ]
  },
  {
   "cell_type": "code",
   "execution_count": null,
   "metadata": {},
   "outputs": [],
   "source": [
    "# Auxiliary video functions\n",
    "\n",
    "def getSlidingWindowVideo(I, dim, Tau, dT):\n",
    "    N = I.shape[0] #Number of frames\n",
    "    P = I.shape[1] #Number of pixels (possibly after PCA)\n",
    "    pix = np.arange(P)\n",
    "    NWindows = int(np.floor((N-dim*Tau)/dT))\n",
    "    X = np.zeros((NWindows, dim*P))\n",
    "    idx = np.arange(N)\n",
    "    for i in range(NWindows):\n",
    "        idxx = dT*i + Tau*np.arange(dim)\n",
    "        start = int(np.floor(idxx[0]))\n",
    "        end = int(np.ceil(idxx[-1]))\n",
    "        f = interpolate.interp2d(pix, idx[start:end+1], I[idx[start:end+1], :], kind='linear')\n",
    "        X[i, :] = f(pix, idxx).flatten()\n",
    "    return X\n",
    "\n",
    "def writeVideo(filename, frame_data, fps, resol ):\n",
    "    n_row, n_col = resol\n",
    "    out = cv2.VideoWriter(filename, cv2.VideoWriter_fourcc(*'mp4v'), fps, (n_col, n_row), False)\n",
    "    for i in range(len(frame_data)):\n",
    "        out.write(frame_data[i].reshape(n_row, n_col) )\n",
    "    out.release()\n",
    "\n",
    "def playVideo(filepath):\n",
    "    cap = cv2.VideoCapture(filepath)\n",
    "    while cap.isOpened():\n",
    "        ret, frame = cap.read()\n",
    "        if not ret:\n",
    "            break\n",
    "        gray = cv2.cvtColor(frame, cv2.COLOR_BGR2GRAY)\n",
    "        cv2.imshow('frame', gray)\n",
    "        if cv2.waitKey(30) == ord('q'):\n",
    "            break\n",
    "    cap.release()\n",
    "    cv2.destroyAllWindows()   \n",
    "\n",
    "def loadVideo(filepath):\n",
    "    vid = cv2.VideoCapture(filepath)\n",
    "\n",
    "    success,image = vid.read()\n",
    "    count = 0\n",
    "    success = True\n",
    "\n",
    "    n_row, n_col, _ = image.shape\n",
    "\n",
    "    data = []\n",
    "    while success:\n",
    "        data.append(image[...,0].reshape(-1)) \n",
    "        success,image = vid.read()\n",
    "        count += 1\n",
    "\n",
    "    vid.release() \n",
    "    data = np.array(data)\n",
    "\n",
    "    print(count, \" frames extracted\")\n",
    "    print(\"frame size = \", (n_row , n_col))\n",
    "    print(\"data shape =\", data.shape)\n",
    "    \n",
    "    return data , (n_row, n_col)"
   ]
  },
  {
   "cell_type": "code",
   "execution_count": null,
   "metadata": {},
   "outputs": [],
   "source": [
    "data , shape = loadVideo('data/dots_quasi.wmv')\n",
    "n_row, n_col = shape"
   ]
  },
  {
   "cell_type": "code",
   "execution_count": null,
   "metadata": {},
   "outputs": [],
   "source": [
    "playVideo('data/dots_quasi.wmv')"
   ]
  },
  {
   "cell_type": "code",
   "execution_count": null,
   "metadata": {},
   "outputs": [],
   "source": [
    "pca = PCA(n_components=25)\n",
    "data_pca = pca.fit(data).transform(data)\n",
    "plt.figure(figsize = (5,2))\n",
    "plt.plot(pca.explained_variance_ratio_, '-*') ;\n",
    "plt.title('Explained PCA variance - Original Data');"
   ]
  },
  {
   "cell_type": "code",
   "execution_count": null,
   "metadata": {},
   "outputs": [],
   "source": [
    "res = ripser(data_pca, maxdim=2, n_perm =150, coeff =13)\n",
    "dgms = res['dgms']\n",
    "plt.figure(figsize = (3,3)) \n",
    "plot_diagrams(dgms)"
   ]
  },
  {
   "cell_type": "markdown",
   "metadata": {},
   "source": [
    "---\n",
    "\n",
    "\n",
    "<img src=\"https://i.ibb.co/3R9P6p7/SW.png\" alt=\"test-1\" border=\"0\" width=650px>\n"
   ]
  },
  {
   "cell_type": "code",
   "execution_count": null,
   "metadata": {},
   "outputs": [],
   "source": [
    "# Construct sliding window pointcloud of video data\n",
    "wSize = 16\n",
    "dim = 5\n",
    "Tau = wSize/float(dim)\n",
    "\n",
    "desiredSamples = 600\n",
    "M = data.shape[0] - wSize + 1\n",
    "dT = M/float(desiredSamples)\n",
    "\n",
    "X = getSlidingWindowVideo(data, dim, Tau, dT)\n",
    "\n",
    "XS = X - np.mean(X, 1)[:, None]\n",
    "XS = XS/np.sqrt(np.sum(XS**2, 1))[:, None]\n",
    "\n",
    "X = X - np.amin(X)\n",
    "X = X/np.amax(X)\n",
    "X = np.uint8(X*255)\n",
    "frame_data = X[:, 0:data.shape[1]]"
   ]
  },
  {
   "cell_type": "code",
   "execution_count": null,
   "metadata": {},
   "outputs": [],
   "source": [
    "# PCA of the Sliding window point cloud\n",
    "pca = PCA(n_components=25)\n",
    "XS_pca = pca.fit(XS).transform(XS)\n",
    "plt.figure(figsize = (3.8,1.5))\n",
    "plt.plot(pca.explained_variance_ratio_, '-*') ;\n",
    "plt.title('Explained PCA variance -Sliding Window');"
   ]
  },
  {
   "cell_type": "code",
   "execution_count": null,
   "metadata": {},
   "outputs": [],
   "source": [
    "# Compute persistence diagrams of the pca vesion of the sliding window point cloud\n",
    "res = ripser(XS_pca, maxdim=2, n_perm =150, coeff =13, thresh = 0.9)\n",
    "dgms = res['dgms']\n",
    "plt.figure(figsize = (3,3)) \n",
    "plot_diagrams(dgms)"
   ]
  },
  {
   "cell_type": "code",
   "execution_count": null,
   "metadata": {},
   "outputs": [],
   "source": [
    "# Fill in this cell : Compute the circular coordinates of the XS_pca data set\n",
    "\n",
    "# Hint 1: cc = CircularCoords( , , , )\n",
    "# Hint 2: help(CircularCoords)\n"
   ]
  },
  {
   "cell_type": "code",
   "execution_count": null,
   "metadata": {},
   "outputs": [],
   "source": [
    "# Fill in this cell : Get the circular coordinates for two persistent cycles:\n",
    "\n",
    "# Hint : theta1 = cc.get_coordinates( , )\n",
    "#        theta2 = cc.get_coordinates( , )\n"
   ]
  },
  {
   "cell_type": "code",
   "execution_count": null,
   "metadata": {},
   "outputs": [],
   "source": [
    "# Create a video with the frames ordered by theta1\n",
    "sort_theta1 = np.argsort(theta1)\n",
    "writeVideo('dots_theta1.mp4', frame_data[sort_theta1], 46 , (n_row , n_col) )"
   ]
  },
  {
   "cell_type": "code",
   "execution_count": null,
   "metadata": {},
   "outputs": [],
   "source": [
    "# Play the video\n",
    "# Want: one dot to move very quickly, while the other moves slowly\n",
    "playVideo('dots_theta1.mp4')"
   ]
  },
  {
   "cell_type": "code",
   "execution_count": null,
   "metadata": {},
   "outputs": [],
   "source": [
    "# Create a video with the frames ordered by theta2\n",
    "sort_theta2 = np.argsort(theta2)\n",
    "writeVideo('dots_theta2.mp4', frame_data[sort_theta2] , 46 , (n_row , n_col) )"
   ]
  },
  {
   "cell_type": "code",
   "execution_count": null,
   "metadata": {},
   "outputs": [],
   "source": [
    "# Play the video\n",
    "# Want: one dot to move very quickly, while the other moves slowly\n",
    "playVideo('dots_theta2.mp4')"
   ]
  }
 ],
 "metadata": {
  "kernelspec": {
   "display_name": "Python 3",
   "language": "python",
   "name": "python3"
  },
  "language_info": {
   "codemirror_mode": {
    "name": "ipython",
    "version": 3
   },
   "file_extension": ".py",
   "mimetype": "text/x-python",
   "name": "python",
   "nbconvert_exporter": "python",
   "pygments_lexer": "ipython3",
   "version": "3.8.3"
  }
 },
 "nbformat": 4,
 "nbformat_minor": 4
}
