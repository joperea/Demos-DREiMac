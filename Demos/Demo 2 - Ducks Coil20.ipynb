{
 "cells": [
  {
   "cell_type": "markdown",
   "metadata": {},
   "source": [
    "## Demo 2 - Ordering a set of ducks\n",
    "\n",
    "source: https://www.cs.columbia.edu/CAVE/software/softlib/coil-20.php "
   ]
  },
  {
   "cell_type": "code",
   "execution_count": null,
   "metadata": {},
   "outputs": [],
   "source": [
    "# Imports\n",
    "import numpy as np\n",
    "\n",
    "# For image and video manipulation\n",
    "from PIL import Image\n",
    "import cv2  # if not installed, use : !pip install opencv-python\n",
    "import glob\n",
    "\n",
    "# Persistent homology\n",
    "from ripser import ripser\n",
    "from persim import plot_diagrams\n",
    "from dreimac import CircularCoords\n",
    "\n",
    "import matplotlib.pyplot as plt\n",
    "%matplotlib inline"
   ]
  },
  {
   "cell_type": "code",
   "execution_count": null,
   "metadata": {},
   "outputs": [],
   "source": [
    "# Auxiliary video functions\n",
    "def writeVideo(filename, frame_data, fps, resol ):\n",
    "    n_row, n_col = resol\n",
    "    out = cv2.VideoWriter(filename, cv2.VideoWriter_fourcc(*'mp4v'), fps, (n_col, n_row), False)\n",
    "    for i in range(len(frame_data)):\n",
    "        out.write(frame_data[i].reshape(n_row, n_col) )\n",
    "    out.release()\n",
    "\n",
    "def playVideo(filepath):\n",
    "    cap = cv2.VideoCapture(filepath)\n",
    "    while cap.isOpened():\n",
    "        ret, frame = cap.read()\n",
    "        if not ret:\n",
    "            break\n",
    "        gray = cv2.cvtColor(frame, cv2.COLOR_BGR2GRAY)\n",
    "        cv2.imshow('frame', gray)\n",
    "        if cv2.waitKey(50) == ord('q'):\n",
    "            break\n",
    "    cap.release()\n",
    "    cv2.destroyAllWindows()   "
   ]
  },
  {
   "cell_type": "code",
   "execution_count": null,
   "metadata": {},
   "outputs": [],
   "source": [
    "# Load and display the image data\n",
    "\n",
    "data = []\n",
    "img_names = glob.glob('data/Duck_Data/*.png')\n",
    "\n",
    "for filename in img_names:\n",
    "    img = np.asarray(Image.open(filename))\n",
    "    data.append(img.reshape(-1))\n",
    "    \n",
    "data = np.array(data)\n",
    "np.random.shuffle(data) # randomly permute the image order\n",
    "\n",
    "plt.figure(figsize = (12,2))\n",
    "for i in range(72):\n",
    "    plt.subplot(4, 18, i + 1)\n",
    "    plt.imshow(data[i].reshape(128,128), cmap='gray')\n",
    "    plt.axis('off')"
   ]
  },
  {
   "cell_type": "code",
   "execution_count": null,
   "metadata": {},
   "outputs": [],
   "source": [
    "# Create a video from the image data. Frames are ordered in the same way as in the data set\n",
    "writeVideo('ducks_original.mp4', data, 12, (128,128))"
   ]
  },
  {
   "cell_type": "code",
   "execution_count": null,
   "metadata": {},
   "outputs": [],
   "source": [
    "# Play the video. A new window should open\n",
    "playVideo('ducks_original.mp4')"
   ]
  },
  {
   "cell_type": "code",
   "execution_count": null,
   "metadata": {},
   "outputs": [],
   "source": [
    "# Rips persistence of the data\n",
    "\n",
    "res = ripser(data, maxdim=2,  coeff =2 )\n",
    "dgms = res['dgms']\n",
    "plt.figure(figsize = (4,4)) \n",
    "plot_diagrams(dgms)"
   ]
  },
  {
   "cell_type": "code",
   "execution_count": null,
   "metadata": {},
   "outputs": [],
   "source": [
    "# Compute the circular coordinates of the data\n",
    "cc = CircularCoords(data , distance_matrix = False, n_landmarks  = 72, prime = 13)\n",
    "\n",
    "# Get the circular coordinate at interpolation scale = 0.9, and for the cocycle with highest persistence\n",
    "theta = cc.get_coordinates(perc= 0.2,  cocycle_idx=[0])"
   ]
  },
  {
   "cell_type": "code",
   "execution_count": null,
   "metadata": {},
   "outputs": [],
   "source": [
    "# Sort the images with respect to the computed circular coordinate\n",
    "data_sort = data[np.argsort(theta)]\n",
    "\n",
    "# Display the sorted data\n",
    "plt.figure(figsize = (12,2))\n",
    "for i in range(72):\n",
    "    plt.subplot(4, 18, i + 1)\n",
    "    plt.imshow(data_sort[i].reshape(128,128), cmap='gray')\n",
    "    plt.axis('off')\n",
    "    "
   ]
  },
  {
   "cell_type": "code",
   "execution_count": null,
   "metadata": {},
   "outputs": [],
   "source": [
    "# Create a video from the image data. Frames are ordered by their circular coordinate\n",
    "writeVideo('ducks_ordered.mp4', data_sort, 12, (128,128))"
   ]
  },
  {
   "cell_type": "code",
   "execution_count": null,
   "metadata": {},
   "outputs": [],
   "source": [
    "# Play the video. A new window should open\n",
    "playVideo('ducks_ordered.mp4')"
   ]
  }
 ],
 "metadata": {
  "kernelspec": {
   "display_name": "Python 3",
   "language": "python",
   "name": "python3"
  },
  "language_info": {
   "codemirror_mode": {
    "name": "ipython",
    "version": 3
   },
   "file_extension": ".py",
   "mimetype": "text/x-python",
   "name": "python",
   "nbconvert_exporter": "python",
   "pygments_lexer": "ipython3",
   "version": "3.8.3"
  }
 },
 "nbformat": 4,
 "nbformat_minor": 4
}
